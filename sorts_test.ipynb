{
 "cells": [
  {
   "cell_type": "code",
   "execution_count": 1,
   "id": "6a19904c",
   "metadata": {},
   "outputs": [],
   "source": [
    "import sorts\n",
    "import random"
   ]
  },
  {
   "cell_type": "code",
   "execution_count": 2,
   "id": "f72ea8de",
   "metadata": {},
   "outputs": [],
   "source": [
    "n = 10\n",
    "n1 = 0\n",
    "n2 = 100"
   ]
  },
  {
   "cell_type": "code",
   "execution_count": 3,
   "id": "6b413858",
   "metadata": {},
   "outputs": [
    {
     "name": "stdout",
     "output_type": "stream",
     "text": [
      "[49, 49, 40, 87, 39, 47, 62, 23, 87, 44]\n",
      "[23, 39, 40, 44, 47, 49, 49, 62, 87, 87]\n",
      "[23, 39, 40, 44, 47, 49, 49, 62, 87, 87]\n",
      "[23, 39, 40, 87, 44, 47, 62, 49, 87, 49]\n",
      "[39, 44, 40, 87, 49, 47, 62, 49, 87]\n",
      "[40, 44, 47, 87, 49, 87, 62, 49]\n",
      "[44, 49, 47, 87, 49, 87, 62]\n",
      "[47, 49, 62, 87, 49, 87]\n",
      "[49, 49, 62, 87, 87]\n",
      "[49, 87, 62, 87]\n",
      "[62, 87, 87]\n",
      "[87, 87]\n",
      "[87]\n",
      "[23, 39, 40, 44, 47, 49, 49, 62, 87, 87]\n"
     ]
    }
   ],
   "source": [
    "a = [random.randint(n1, n2) for _ in range(n)]\n",
    "print(a)\n",
    "print(sorts.mergesort(a))\n",
    "print(sorts.quicksort(a))\n",
    "print(sorts.heapsort(a))"
   ]
  },
  {
   "cell_type": "code",
   "execution_count": null,
   "id": "f5fa2014",
   "metadata": {},
   "outputs": [],
   "source": []
  },
  {
   "cell_type": "code",
   "execution_count": null,
   "id": "c9c94ac5",
   "metadata": {},
   "outputs": [],
   "source": []
  }
 ],
 "metadata": {
  "kernelspec": {
   "display_name": "Python 3 (ipykernel)",
   "language": "python",
   "name": "python3"
  },
  "language_info": {
   "codemirror_mode": {
    "name": "ipython",
    "version": 3
   },
   "file_extension": ".py",
   "mimetype": "text/x-python",
   "name": "python",
   "nbconvert_exporter": "python",
   "pygments_lexer": "ipython3",
   "version": "3.9.5"
  }
 },
 "nbformat": 4,
 "nbformat_minor": 5
}
