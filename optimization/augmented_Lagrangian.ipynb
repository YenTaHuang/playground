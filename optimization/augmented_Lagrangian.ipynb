{
 "cells": [
  {
   "cell_type": "code",
   "execution_count": 2,
   "id": "3aed945a",
   "metadata": {},
   "outputs": [],
   "source": [
    "import numpy as np\n",
    "from scipy import optimize"
   ]
  },
  {
   "cell_type": "code",
   "execution_count": 3,
   "id": "416210c0",
   "metadata": {},
   "outputs": [],
   "source": [
    "import matplotlib.pyplot as plt"
   ]
  },
  {
   "cell_type": "markdown",
   "id": "5e2b2772",
   "metadata": {},
   "source": [
    "<h2> Direct SLSQP </h2>"
   ]
  },
  {
   "cell_type": "code",
   "execution_count": 4,
   "id": "b387b176",
   "metadata": {},
   "outputs": [],
   "source": [
    "def Cost(x):\n",
    "  return x[0]+x[1]\n",
    "\n",
    "def Cost(x):\n",
    "  return -x[1]\n",
    "\n",
    "def Con0(x):\n",
    "  return 1-x[0]**2-x[1]**2\n",
    "\n",
    "def Con1(x):\n",
    "  return x[1]\n",
    "\n",
    "cons = [{'type': 'ineq', 'fun': Con0, 'ctol': 1e-4}, {'type': 'ineq', 'fun': Con1, 'ctol': 1e-4}]"
   ]
  },
  {
   "cell_type": "code",
   "execution_count": 5,
   "id": "b1d5d6eb",
   "metadata": {},
   "outputs": [
    {
     "data": {
      "text/plain": [
       "     fun: -1.0000000226284156\n",
       "     jac: array([ 0., -1.])\n",
       " message: 'Optimization terminated successfully'\n",
       "    nfev: 18\n",
       "     nit: 6\n",
       "    njev: 6\n",
       "  status: 0\n",
       " success: True\n",
       "       x: array([6.17040265e-07, 1.00000002e+00])"
      ]
     },
     "execution_count": 5,
     "metadata": {},
     "output_type": "execute_result"
    }
   ],
   "source": [
    "optimize.minimize(Cost, [1,1], constraints=cons, method='SLSQP')"
   ]
  },
  {
   "cell_type": "code",
   "execution_count": 6,
   "id": "8919792d",
   "metadata": {},
   "outputs": [],
   "source": [
    "x0 = [1,1]\n",
    "x = x0"
   ]
  },
  {
   "cell_type": "code",
   "execution_count": 7,
   "id": "d61fca96",
   "metadata": {},
   "outputs": [
    {
     "name": "stdout",
     "output_type": "stream",
     "text": [
      "     fun: -1.2500000018626451\n",
      "     jac: array([ 0., -1.])\n",
      " message: 'Iteration limit reached'\n",
      "    nfev: 6\n",
      "     nit: 2\n",
      "    njev: 2\n",
      "  status: 9\n",
      " success: False\n",
      "       x: array([0.25, 1.25])\n",
      "[0.25 1.25]\n"
     ]
    }
   ],
   "source": [
    "sol = optimize.minimize(Cost, x, constraints=cons, options={'maxiter':2})\n",
    "x = sol['x']\n",
    "print(sol)\n",
    "print(x)"
   ]
  },
  {
   "cell_type": "markdown",
   "id": "4b9fe307",
   "metadata": {},
   "source": [
    "<h2> Multiplier method</h2>"
   ]
  },
  {
   "cell_type": "code",
   "execution_count": 47,
   "id": "d9ebfa4b",
   "metadata": {},
   "outputs": [],
   "source": [
    "def Cost1(x):\n",
    "  return x[0]+x[1]\n",
    "\n",
    "def Cost2(x):\n",
    "  return -x[1]\n",
    "\n",
    "Cost = Cost1\n",
    "\n",
    "def Con0(x):\n",
    "  return 1-x[0]**2-x[1]**2\n",
    "\n",
    "def Con1(x):\n",
    "  return x[1]\n",
    "\n",
    "cons = [{'type': 'ineq', 'fun': Con0, 'ctol': 1e-1}, {'type': 'ineq', 'fun': Con1, 'ctol': 1e-1}]\n",
    "\n",
    "def ALagrangian(f, x, s, l, mu):\n",
    "  c = [con['fun'](x) for con in cons]\n",
    "  return f(x) + sum([-l[i]*(c[i]-s[i]) + mu/2*(c[i]-s[i])**2 for i in range(len(cons))])"
   ]
  },
  {
   "cell_type": "code",
   "execution_count": 48,
   "id": "f07a5d23",
   "metadata": {},
   "outputs": [],
   "source": [
    "eta_star = 1e-3\n",
    "omega_star = 1e-6\n",
    "\n",
    "x0 = [0,0]; x=x0\n",
    "s0 = [con['fun'](x) for con in cons]; s=s0\n",
    "l0 = [0,0]; l=l0\n",
    "\n",
    "\n",
    "\n",
    "mu_list = [10]\n",
    "omega_list = [1/mu_list[0]]\n",
    "eta_list = [1/mu_list[0]**0.1]\n",
    "\n",
    "v = x+s\n",
    "bounds = [(None,None), (None,None), (0, None), (0,None)]\n",
    "\n"
   ]
  },
  {
   "cell_type": "code",
   "execution_count": 49,
   "id": "4a9226ae",
   "metadata": {},
   "outputs": [
    {
     "name": "stdout",
     "output_type": "stream",
     "text": [
      "      fun: -1.0577452962315177\n",
      " hess_inv: <4x4 LbfgsInvHessProduct with dtype=float64>\n",
      "      jac: array([0.00965037, 0.00097398, 0.48549884, 0.91060648])\n",
      "  message: 'STOP: TOTAL NO. of ITERATIONS REACHED LIMIT'\n",
      "     nfev: 160\n",
      "      nit: 20\n",
      "     njev: 32\n",
      "   status: 1\n",
      "  success: False\n",
      "        x: array([-1.01993031, -0.09106064,  0.        ,  0.        ])\n",
      "cost = -1.1109909521146126\n",
      "x = [-1.01993031 -0.09106064]\n",
      "s = [0. 0.]\n",
      "c = [-0.04854987780597589, -0.09106064211086927]\n",
      "l = [0, 0]\n",
      "mu = 10\n",
      "optimization in progress...\n",
      "      fun: -1.0003735177096662\n",
      " hess_inv: <4x4 LbfgsInvHessProduct with dtype=float64>\n",
      "      jac: array([-1.83408845e-05,  4.44089210e-06,  4.99671837e-01,  9.91874205e-01])\n",
      "  message: 'CONVERGENCE: REL_REDUCTION_OF_F_<=_FACTR*EPSMCH'\n",
      "     nfev: 40\n",
      "      nit: 6\n",
      "     njev: 8\n",
      "   status: 0\n",
      "  success: True\n",
      "        x: array([-1.0006754 , -0.00812677,  0.        ,  0.        ])\n",
      "cost = -1.0088021748303886\n",
      "x = [-1.0006754  -0.00812677]\n",
      "s = [0. 0.]\n",
      "c = [-0.0014173014139658802, -0.00812677443763096]\n",
      "l = [0.4854987780597589, 0.9106064211086927]\n",
      "mu = 10\n",
      "optimization in progress...\n",
      "      fun: -1.000003006583773\n",
      " hess_inv: <4x4 LbfgsInvHessProduct with dtype=float64>\n",
      "      jac: array([ 9.48130469e-06, -4.21884749e-06,  4.99987673e-01,  9.99265226e-01])\n",
      "  message: 'CONVERGENCE: REL_REDUCTION_OF_F_<=_FACTR*EPSMCH'\n",
      "     nfev: 25\n",
      "      nit: 3\n",
      "     njev: 5\n",
      "   status: 0\n",
      "  success: True\n",
      "        x: array([-1.00001552e+00, -7.39101432e-04,  0.00000000e+00,  0.00000000e+00])\n",
      "cost = -1.0007546190852539\n",
      "x = [-1.00001552e+00 -7.39101432e-04]\n",
      "s = [0. 0.]\n",
      "c = [-3.1581817586547876e-05, -0.0007391014323229863]\n",
      "l = [0.4996717921994177, 0.9918741654850023]\n",
      "mu = 10\n",
      "optimization sucess!\n"
     ]
    }
   ],
   "source": [
    "for _ in range(5):\n",
    "  def AL_tmp(v):\n",
    "    x, s = v[:len(v)//2], v[len(v)//2:]\n",
    "    return ALagrangian(Cost, x,s,l,mu_list[-1])\n",
    "  \n",
    "  maxiter = 20\n",
    "  sol = optimize.minimize(AL_tmp, v, bounds=bounds, \n",
    "                          options={'maxiter': maxiter,\n",
    "                                   'ftol': omega_star,\n",
    "                                   'gtol': 1e-6\n",
    "                                  }, \n",
    "                          method=\"L-BFGS-B\")\n",
    "  v = sol['x']\n",
    "  x, s = v[:len(v)//2], v[len(v)//2:]\n",
    "  c = [con['fun'](x) for con in cons]\n",
    "\n",
    "  print(sol)\n",
    "  print(f'cost = {Cost(x)}')\n",
    "  print(f'x = {x}')\n",
    "  print(f's = {s}')\n",
    "  print(f'c = {c}')\n",
    "  print(f'l = {l}')\n",
    "  print(f'mu = {mu_list[-1]}')\n",
    "  \n",
    "  if abs(max([(c[i]-s[i])/cons[i]['ctol'] for i in range(len(cons))])) < eta_list[-1]:\n",
    "    if abs(max([(c[i]-s[i])/cons[i]['ctol'] for i in range(len(cons))])) < eta_star and sol['success']:\n",
    "      print(\"optimization sucess!\")\n",
    "      break\n",
    "    else:\n",
    "      for i in range(len(cons)):\n",
    "        l[i] = l[i] - mu_list[-1]*c[i]\n",
    "      mu_list.append(mu_list[-1])\n",
    "      eta_list.append(eta_list[-1]/mu_list[-1]**0.9)\n",
    "      omega_list.append(omega_list[-1]/mu_list[-1])\n",
    "  else:\n",
    "    l = l\n",
    "    mu_list.append(100*mu_list[-1])\n",
    "    eta_list.append(1/mu_list[-1]**0.1)\n",
    "    omega_list.append(1/mu_list[-1])\n",
    "    \n",
    "  print(\"optimization in progress...\")\n",
    "      \n",
    "    \n",
    "\n",
    "  "
   ]
  },
  {
   "cell_type": "code",
   "execution_count": 11,
   "id": "01cda5d8",
   "metadata": {},
   "outputs": [
    {
     "data": {
      "text/plain": [
       "array([-1.00000010e+00, -5.17660744e-09])"
      ]
     },
     "execution_count": 11,
     "metadata": {},
     "output_type": "execute_result"
    }
   ],
   "source": [
    "x"
   ]
  },
  {
   "cell_type": "code",
   "execution_count": 14,
   "id": "5049cd0a",
   "metadata": {},
   "outputs": [
    {
     "data": {
      "text/plain": [
       "[0, 0]"
      ]
     },
     "execution_count": 14,
     "metadata": {},
     "output_type": "execute_result"
    }
   ],
   "source": [
    "s"
   ]
  },
  {
   "cell_type": "code",
   "execution_count": 25,
   "id": "6793d179",
   "metadata": {},
   "outputs": [],
   "source": [
    "a = []\n",
    "a.append(1)"
   ]
  },
  {
   "cell_type": "code",
   "execution_count": 26,
   "id": "c7814db7",
   "metadata": {},
   "outputs": [
    {
     "data": {
      "text/plain": [
       "[1]"
      ]
     },
     "execution_count": 26,
     "metadata": {},
     "output_type": "execute_result"
    }
   ],
   "source": [
    "a"
   ]
  },
  {
   "cell_type": "code",
   "execution_count": null,
   "id": "f4b25761",
   "metadata": {},
   "outputs": [],
   "source": []
  }
 ],
 "metadata": {
  "kernelspec": {
   "display_name": "Python 3 (ipykernel)",
   "language": "python",
   "name": "python3"
  },
  "language_info": {
   "codemirror_mode": {
    "name": "ipython",
    "version": 3
   },
   "file_extension": ".py",
   "mimetype": "text/x-python",
   "name": "python",
   "nbconvert_exporter": "python",
   "pygments_lexer": "ipython3",
   "version": "3.10.4"
  }
 },
 "nbformat": 4,
 "nbformat_minor": 5
}
