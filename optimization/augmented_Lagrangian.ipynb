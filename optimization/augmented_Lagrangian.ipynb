{
 "cells": [
  {
   "cell_type": "code",
   "execution_count": 63,
   "id": "3aed945a",
   "metadata": {},
   "outputs": [],
   "source": [
    "import numpy as np\n",
    "from scipy import optimize"
   ]
  },
  {
   "cell_type": "code",
   "execution_count": 64,
   "id": "416210c0",
   "metadata": {},
   "outputs": [],
   "source": [
    "import matplotlib.pyplot as plt"
   ]
  },
  {
   "cell_type": "code",
   "execution_count": 75,
   "id": "b387b176",
   "metadata": {},
   "outputs": [],
   "source": [
    "def Cost(x):\n",
    "  return x[0]+x[1]\n",
    "\n",
    "def Con0(x):\n",
    "  return 1-x[0]**2-x[1]**2\n",
    "\n",
    "def Con1(x):\n",
    "  return x[1]\n",
    "\n",
    "ons = [{'type': 'ineq', 'fun': Con0, 'ctol': 1e-4}, {'type': 'ineq', 'fun': Con1, 'ctol': 1e-4}]"
   ]
  },
  {
   "cell_type": "code",
   "execution_count": 76,
   "id": "b1d5d6eb",
   "metadata": {},
   "outputs": [
    {
     "data": {
      "text/plain": [
       "     fun: -1.000000000063288\n",
       "     jac: array([1., 1.])\n",
       " message: 'Optimization terminated successfully'\n",
       "    nfev: 25\n",
       "     nit: 8\n",
       "    njev: 8\n",
       "  status: 0\n",
       " success: True\n",
       "       x: array([-1.00000000e+00, -2.65166443e-15])"
      ]
     },
     "execution_count": 76,
     "metadata": {},
     "output_type": "execute_result"
    }
   ],
   "source": [
    "optimize.minimize(Cost, [1,1], constraints=cons)"
   ]
  },
  {
   "cell_type": "code",
   "execution_count": 77,
   "id": "8919792d",
   "metadata": {},
   "outputs": [],
   "source": [
    "x0 = [1,1]\n",
    "x = x0"
   ]
  },
  {
   "cell_type": "code",
   "execution_count": 80,
   "id": "d61fca96",
   "metadata": {},
   "outputs": [
    {
     "name": "stdout",
     "output_type": "stream",
     "text": [
      "     fun: -1.0\n",
      "     jac: array([0.99999999, 0.99999999])\n",
      " message: 'Optimization terminated successfully'\n",
      "    nfev: 3\n",
      "     nit: 1\n",
      "    njev: 1\n",
      "  status: 0\n",
      " success: True\n",
      "       x: array([-1.00000000e+00, -1.11022302e-16])\n",
      "[-1.00000000e+00 -1.11022302e-16]\n"
     ]
    }
   ],
   "source": [
    "sol = optimize.minimize(Cost, x, constraints=cons, options={'maxiter':2})\n",
    "x = sol['x']\n",
    "print(sol)\n",
    "print(x)"
   ]
  },
  {
   "cell_type": "markdown",
   "id": "4b9fe307",
   "metadata": {},
   "source": [
    "<h2> Multiplier method</h2>"
   ]
  },
  {
   "cell_type": "code",
   "execution_count": 84,
   "id": "d9ebfa4b",
   "metadata": {},
   "outputs": [],
   "source": [
    "def ALagrangian(x, s, l, mu):\n",
    "  c = [con['fun'](x) for con in cons]\n",
    "  return cost(x) + sum([-l[i]*c[i] + mu[i]/2*c[i]**2 for i in range(len(cons))])"
   ]
  },
  {
   "cell_type": "code",
   "execution_count": 103,
   "id": "f07a5d23",
   "metadata": {},
   "outputs": [],
   "source": [
    "x0 = [1,1]; x=x0\n",
    "s0 = [0,0]; s=s0\n",
    "l0 = [0,0]; l=l0\n",
    "mu0 = [1,1]; mu=mu0\n",
    "\n",
    "v = x+s\n",
    "bounds = [(None,None), (None,None), (0, None), (0,None)]\n",
    "\n",
    "x_list = [x0]\n"
   ]
  },
  {
   "cell_type": "code",
   "execution_count": 104,
   "id": "4a9226ae",
   "metadata": {},
   "outputs": [
    {
     "name": "stdout",
     "output_type": "stream",
     "text": [
      "      fun: -1.0851918471457658\n",
      " hess_inv: <4x4 LbfgsInvHessProduct with dtype=float64>\n",
      "      jac: array([ 0.01093208, -1.27925575,  0.        ,  0.        ])\n",
      "  message: 'STOP: TOTAL NO. of ITERATIONS REACHED LIMIT'\n",
      "     nfev: 50\n",
      "      nit: 5\n",
      "     njev: 10\n",
      "   status: 1\n",
      "  success: False\n",
      "        x: array([-0.78411061, -1.00790113,  0.        ,  0.        ])\n",
      "x = [-0.78411061 -1.00790113]\n",
      "s = [0. 0.]\n",
      "c = [-0.6306941397558266, -1.0079011315441115]\n",
      "l = [0.6306941397558266, 1.0079011315441115]\n",
      "mu = [10, 10]\n",
      "      fun: -1.0008281562891348\n",
      " hess_inv: <4x4 LbfgsInvHessProduct with dtype=float64>\n",
      "      jac: array([-0.02431586, -0.00322309,  0.        ,  0.        ])\n",
      "  message: 'STOP: TOTAL NO. of ITERATIONS REACHED LIMIT'\n",
      "     nfev: 45\n",
      "      nit: 5\n",
      "     njev: 9\n",
      "   status: 1\n",
      "  success: False\n",
      "        x: array([-9.94205565e-01,  4.24102031e-04,  0.00000000e+00,  0.00000000e+00])\n",
      "x = [-9.94205565e-01  4.24102031e-04]\n",
      "s = [0. 0.]\n",
      "c = [0.011555113790952209, 0.0004241020310572904]\n",
      "l = [0.5151430018463045, 1.0036601112335386]\n",
      "mu = [100, 100]\n",
      "      fun: -1.0000012100118143\n",
      " hess_inv: <4x4 LbfgsInvHessProduct with dtype=float64>\n",
      "      jac: array([-6.68354257e-06,  4.44089210e-07,  0.00000000e+00,  0.00000000e+00])\n",
      "  message: 'CONVERGENCE: NORM_OF_PROJECTED_GRADIENT_<=_PGTOL'\n",
      "     nfev: 30\n",
      "      nit: 4\n",
      "     njev: 6\n",
      "   status: 0\n",
      "  success: True\n",
      "        x: array([-9.99924492e-01,  3.62382365e-05,  0.00000000e+00,  0.00000000e+00])\n",
      "x = [-9.99924492e-01  3.62382365e-05]\n",
      "s = [0. 0.]\n",
      "c = [0.00015100895225603623, 3.623823652905295e-05]\n",
      "l = [0.5000421066207008, 1.0000362875806332]\n",
      "mu = [1000, 100]\n",
      "      fun: -1.000000000006709\n",
      " hess_inv: <4x4 LbfgsInvHessProduct with dtype=float64>\n",
      "      jac: array([-5.46229725e-05,  4.88498131e-07,  0.00000000e+00,  0.00000000e+00])\n",
      "  message: 'STOP: TOTAL NO. of ITERATIONS REACHED LIMIT'\n",
      "     nfev: 40\n",
      "      nit: 5\n",
      "     njev: 8\n",
      "   status: 1\n",
      "  success: False\n",
      "        x: array([-9.99999998e-01,  3.59116673e-07,  0.00000000e+00,  0.00000000e+00])\n",
      "x = [-9.99999998e-01  3.59116673e-07]\n",
      "s = [0. 0.]\n",
      "c = [4.792178919076137e-09, 3.591166727137417e-07]\n",
      "l = [0.5000373144417818, 1.0000003759133618]\n",
      "mu = [1000, 100]\n",
      "      fun: -0.99999999999483\n",
      " hess_inv: <4x4 LbfgsInvHessProduct with dtype=float64>\n",
      "      jac: array([2.82329714e-05, 3.49054119e-05, 0.00000000e+00, 0.00000000e+00])\n",
      "  message: 'CONVERGENCE: REL_REDUCTION_OF_F_<=_FACTR*EPSMCH'\n",
      "     nfev: 15\n",
      "      nit: 1\n",
      "     njev: 3\n",
      "   status: 0\n",
      "  success: True\n",
      "        x: array([-9.99999979e-01,  3.44316535e-07,  0.00000000e+00,  0.00000000e+00])\n",
      "x = [-9.99999979e-01  3.44316535e-07]\n",
      "s = [0. 0.]\n",
      "c = [4.141778921624873e-08, 3.4431653482489307e-07]\n",
      "l = [0.49999589665256555, 0.9999659442598793]\n",
      "mu = [1000, 100]\n",
      "      fun: -0.9999999999834315\n",
      " hess_inv: <4x4 LbfgsInvHessProduct with dtype=float64>\n",
      "      jac: array([-4.17332837e-05,  6.69242439e-05,  0.00000000e+00,  0.00000000e+00])\n",
      "  message: 'CONVERGENCE: REL_REDUCTION_OF_F_<=_FACTR*EPSMCH'\n",
      "     nfev: 15\n",
      "      nit: 1\n",
      "     njev: 3\n",
      "   status: 0\n",
      "  success: True\n",
      "        x: array([-1.00000002e+00,  3.20475644e-07,  0.00000000e+00,  0.00000000e+00])\n",
      "x = [-1.00000002e+00  3.20475644e-07]\n",
      "s = [0. 0.]\n",
      "c = [-3.4964667503649925e-08, 3.2047564395479496e-07]\n",
      "l = [0.5000308613200692, 0.9999338966954838]\n",
      "mu = [1000, 100]\n",
      "      fun: -0.9999999999777672\n",
      " hess_inv: <4x4 LbfgsInvHessProduct with dtype=float64>\n",
      "      jac: array([8.39217580e-05, 9.46132062e-05, 0.00000000e+00, 0.00000000e+00])\n",
      "  message: 'CONVERGENCE: REL_REDUCTION_OF_F_<=_FACTR*EPSMCH'\n",
      "     nfev: 15\n",
      "      nit: 1\n",
      "     njev: 3\n",
      "   status: 0\n",
      "  success: True\n",
      "        x: array([-9.99999969e-01,  2.77138135e-07,  0.00000000e+00,  0.00000000e+00])\n",
      "x = [-9.99999969e-01  2.77138135e-07]\n",
      "s = [0. 0.]\n",
      "c = [6.280236721746756e-08, 2.771381351127805e-07]\n",
      "l = [0.4999680589528518, 0.9999061828819725]\n",
      "mu = [1000, 100]\n",
      "      fun: -0.9999999999745084\n",
      " hess_inv: <4x4 LbfgsInvHessProduct with dtype=float64>\n",
      "      jac: array([-6.89448502e-05,  1.18216548e-04,  0.00000000e+00,  0.00000000e+00])\n",
      "  message: 'CONVERGENCE: REL_REDUCTION_OF_F_<=_FACTR*EPSMCH'\n",
      "     nfev: 15\n",
      "      nit: 1\n",
      "     njev: 3\n",
      "   status: 0\n",
      "  success: True\n",
      "        x: array([-1.00000004e+00,  2.36502842e-07,  0.00000000e+00,  0.00000000e+00])\n",
      "x = [-1.00000004e+00  2.36502842e-07]\n",
      "s = [0. 0.]\n",
      "c = [-7.640059760450119e-08, 2.3650284220418687e-07]\n",
      "l = [0.5000444595504563, 0.9998825325977521]\n",
      "mu = [1000, 100]\n",
      "      fun: -0.9999999999766797\n",
      " hess_inv: <4x4 LbfgsInvHessProduct with dtype=float64>\n",
      "      jac: array([8.75854940e-05, 1.36868294e-04, 0.00000000e+00, 0.00000000e+00])\n",
      "  message: 'CONVERGENCE: REL_REDUCTION_OF_F_<=_FACTR*EPSMCH'\n",
      "     nfev: 15\n",
      "      nit: 1\n",
      "     njev: 3\n",
      "   status: 0\n",
      "  success: True\n",
      "        x: array([-9.99999961e-01,  1.87037598e-07,  0.00000000e+00,  0.00000000e+00])\n",
      "x = [-9.99999961e-01  1.87037598e-07]\n",
      "s = [0. 0.]\n",
      "c = [7.823541091640292e-08, 1.870375982149525e-07]\n",
      "l = [0.4999662241395399, 0.9998638288379306]\n",
      "mu = [1000, 100]\n",
      "      fun: -0.9999999999799074\n",
      " hess_inv: <4x4 LbfgsInvHessProduct with dtype=float64>\n",
      "      jac: array([-9.55791008e-05,  1.50102153e-04,  0.00000000e+00,  0.00000000e+00])\n",
      "  message: 'CONVERGENCE: REL_REDUCTION_OF_F_<=_FACTR*EPSMCH'\n",
      "     nfev: 15\n",
      "      nit: 1\n",
      "     njev: 3\n",
      "   status: 0\n",
      "  success: True\n",
      "        x: array([-1.00000005e+00,  1.32928158e-07,  0.00000000e+00,  0.00000000e+00])\n",
      "x = [-1.00000005e+00  1.32928158e-07]\n",
      "s = [0. 0.]\n",
      "c = [-9.154587589724396e-08, 1.3292815818069304e-07]\n",
      "l = [0.5000577700154372, 0.9998505360221125]\n",
      "mu = [1000, 100]\n"
     ]
    }
   ],
   "source": [
    "for _ in range(10):\n",
    "  def f(v):\n",
    "    x, s = v[:len(v)//2], v[len(v)//2:]\n",
    "    return ALagrangian(x,s,l,mu)\n",
    "  \n",
    "  maxiter = 5\n",
    "  sol = optimize.minimize(f, v, bounds=bounds, options={'maxiter': maxiter}, method=\"L-BFGS-B\")\n",
    "  v = sol['x']\n",
    "  x, s = v[:len(v)//2], v[len(v)//2:]\n",
    "  c = [con['fun'](x) for con in cons]\n",
    "\n",
    "\n",
    "  for i in range(len(c)):\n",
    "    l[i] = l[i] - mu[i]*c[i]\n",
    "    if abs(c[i]-s[i]) > cons[i]['ctol']:\n",
    "      mu[i] *= 10\n",
    "\n",
    "  print(sol)\n",
    "  print(f'x = {x}')\n",
    "  print(f's = {s}')\n",
    "  print(f'c = {c}')\n",
    "  print(f'l = {l}')\n",
    "  print(f'mu = {mu}')"
   ]
  },
  {
   "cell_type": "code",
   "execution_count": null,
   "id": "01cda5d8",
   "metadata": {},
   "outputs": [],
   "source": []
  }
 ],
 "metadata": {
  "kernelspec": {
   "display_name": "Python 3 (ipykernel)",
   "language": "python",
   "name": "python3"
  },
  "language_info": {
   "codemirror_mode": {
    "name": "ipython",
    "version": 3
   },
   "file_extension": ".py",
   "mimetype": "text/x-python",
   "name": "python",
   "nbconvert_exporter": "python",
   "pygments_lexer": "ipython3",
   "version": "3.10.4"
  }
 },
 "nbformat": 4,
 "nbformat_minor": 5
}
